{
 "cells": [
  {
   "cell_type": "markdown",
   "metadata": {},
   "source": [
    "## Recommender System using kNN\n",
    "\n",
    "### - Ishita Kapur\n",
    "\n",
    "\n",
    "\n",
    "### Dataset\n",
    "\n",
    "MovieLens https://grouplens.org/datasets/movielens/20m/\n",
    "\n",
    "### Approach\n",
    "\n",
    "The important concepts used to create the recommender system are **k-Nearest Neighbor** and **Matrix Factorization**. The approach for the implementation also includes the evaluation of the recommender system using a test dataset. The recommender system is created based on collaborative filtering and content based filtering. Implementing the recommender system solely based on kNN definitely gives good results, but it does not guarantee that the system would recommend movies that the user has never watched before and to avoid this scenario Matrix Factorization is included in the implementation.\n",
    "\n",
    "Data has first been filtered to ignore users who have predicted very few movies and movies that have been rated by very few users **(PreProcess.ipynb)**. A matrix is then prepared where the rows are the various users and columns are the various movies. Matrix Factorization has been used to generate user features and movie features and both are used to predict ratings of movies that the user has not yet watched. The model first uses **SVD(Single Value Decomposition)** which is one of the techniques to produce feature matrices for sparse matrices. The data is divided into training and test data (80:20) randomly and the best feature count is found using RMSE as the evaluation metric and the predicted rating matrix is computed using the best feature count. For a particular user the 20 recommended(predicted) movies are found from the predicted rating matrix by finding the movies which get the highest rating.\n",
    "\n",
    "From these predicted movies better choices are found using kNN where one of the movies which the user likes is taken into consideration and other movies similar to that movie are recommended to the user. The distance metric used here is cosine similarity where the genre of the movie is compared with other movies that are predicted from Matrix Factorization. The model finally recommends 10 movies to the user. The mean of the users selected movie is compared to the mean of the recommended movies and that comes up to be almost the same. The approach used to build the recommender system performed well."
   ]
  },
  {
   "cell_type": "markdown",
   "metadata": {},
   "source": [
    "#### Import the required libraries"
   ]
  },
  {
   "cell_type": "code",
   "execution_count": 1,
   "metadata": {},
   "outputs": [],
   "source": [
    "import numpy as np\n",
    "import pandas as pd"
   ]
  },
  {
   "cell_type": "markdown",
   "metadata": {},
   "source": [
    "#### Read the movies data into a dataframe"
   ]
  },
  {
   "cell_type": "code",
   "execution_count": 2,
   "metadata": {},
   "outputs": [
    {
     "data": {
      "text/html": [
       "<div>\n",
       "<style scoped>\n",
       "    .dataframe tbody tr th:only-of-type {\n",
       "        vertical-align: middle;\n",
       "    }\n",
       "\n",
       "    .dataframe tbody tr th {\n",
       "        vertical-align: top;\n",
       "    }\n",
       "\n",
       "    .dataframe thead th {\n",
       "        text-align: right;\n",
       "    }\n",
       "</style>\n",
       "<table border=\"1\" class=\"dataframe\">\n",
       "  <thead>\n",
       "    <tr style=\"text-align: right;\">\n",
       "      <th></th>\n",
       "      <th>movieId</th>\n",
       "      <th>title</th>\n",
       "      <th>genres</th>\n",
       "    </tr>\n",
       "  </thead>\n",
       "  <tbody>\n",
       "    <tr>\n",
       "      <th>0</th>\n",
       "      <td>1</td>\n",
       "      <td>Toy Story (1995)</td>\n",
       "      <td>Adventure|Animation|Children|Comedy|Fantasy</td>\n",
       "    </tr>\n",
       "    <tr>\n",
       "      <th>1</th>\n",
       "      <td>2</td>\n",
       "      <td>Jumanji (1995)</td>\n",
       "      <td>Adventure|Children|Fantasy</td>\n",
       "    </tr>\n",
       "    <tr>\n",
       "      <th>2</th>\n",
       "      <td>3</td>\n",
       "      <td>Grumpier Old Men (1995)</td>\n",
       "      <td>Comedy|Romance</td>\n",
       "    </tr>\n",
       "    <tr>\n",
       "      <th>3</th>\n",
       "      <td>4</td>\n",
       "      <td>Waiting to Exhale (1995)</td>\n",
       "      <td>Comedy|Drama|Romance</td>\n",
       "    </tr>\n",
       "    <tr>\n",
       "      <th>4</th>\n",
       "      <td>5</td>\n",
       "      <td>Father of the Bride Part II (1995)</td>\n",
       "      <td>Comedy</td>\n",
       "    </tr>\n",
       "  </tbody>\n",
       "</table>\n",
       "</div>"
      ],
      "text/plain": [
       "   movieId                               title  \\\n",
       "0        1                    Toy Story (1995)   \n",
       "1        2                      Jumanji (1995)   \n",
       "2        3             Grumpier Old Men (1995)   \n",
       "3        4            Waiting to Exhale (1995)   \n",
       "4        5  Father of the Bride Part II (1995)   \n",
       "\n",
       "                                        genres  \n",
       "0  Adventure|Animation|Children|Comedy|Fantasy  \n",
       "1                   Adventure|Children|Fantasy  \n",
       "2                               Comedy|Romance  \n",
       "3                         Comedy|Drama|Romance  \n",
       "4                                       Comedy  "
      ]
     },
     "execution_count": 2,
     "metadata": {},
     "output_type": "execute_result"
    }
   ],
   "source": [
    "movies = pd.read_csv('ml-20m/ml-20m/movies.csv', header=0, usecols=range(3))\n",
    "movies.head()"
   ]
  },
  {
   "cell_type": "markdown",
   "metadata": {},
   "source": [
    "#### Preprocessed data is read into a dataframe"
   ]
  },
  {
   "cell_type": "code",
   "execution_count": 3,
   "metadata": {},
   "outputs": [
    {
     "data": {
      "text/html": [
       "<div>\n",
       "<style scoped>\n",
       "    .dataframe tbody tr th:only-of-type {\n",
       "        vertical-align: middle;\n",
       "    }\n",
       "\n",
       "    .dataframe tbody tr th {\n",
       "        vertical-align: top;\n",
       "    }\n",
       "\n",
       "    .dataframe thead th {\n",
       "        text-align: right;\n",
       "    }\n",
       "</style>\n",
       "<table border=\"1\" class=\"dataframe\">\n",
       "  <thead>\n",
       "    <tr style=\"text-align: right;\">\n",
       "      <th></th>\n",
       "      <th>userId</th>\n",
       "      <th>movieId</th>\n",
       "      <th>rating</th>\n",
       "    </tr>\n",
       "  </thead>\n",
       "  <tbody>\n",
       "    <tr>\n",
       "      <th>0</th>\n",
       "      <td>2</td>\n",
       "      <td>110</td>\n",
       "      <td>4.0</td>\n",
       "    </tr>\n",
       "    <tr>\n",
       "      <th>1</th>\n",
       "      <td>2</td>\n",
       "      <td>589</td>\n",
       "      <td>5.0</td>\n",
       "    </tr>\n",
       "    <tr>\n",
       "      <th>2</th>\n",
       "      <td>2</td>\n",
       "      <td>891</td>\n",
       "      <td>2.0</td>\n",
       "    </tr>\n",
       "    <tr>\n",
       "      <th>3</th>\n",
       "      <td>2</td>\n",
       "      <td>1196</td>\n",
       "      <td>5.0</td>\n",
       "    </tr>\n",
       "    <tr>\n",
       "      <th>4</th>\n",
       "      <td>2</td>\n",
       "      <td>1214</td>\n",
       "      <td>5.0</td>\n",
       "    </tr>\n",
       "  </tbody>\n",
       "</table>\n",
       "</div>"
      ],
      "text/plain": [
       "   userId  movieId  rating\n",
       "0       2      110     4.0\n",
       "1       2      589     5.0\n",
       "2       2      891     2.0\n",
       "3       2     1196     5.0\n",
       "4       2     1214     5.0"
      ]
     },
     "execution_count": 3,
     "metadata": {},
     "output_type": "execute_result"
    }
   ],
   "source": [
    "filtered = pd.read_csv('Dataset/preprocessedMovieLens.csv', header=0)\n",
    "filtered.head()"
   ]
  },
  {
   "cell_type": "markdown",
   "metadata": {},
   "source": [
    "#### Preprocessed data is randomly sampled into training and test data (80:20)"
   ]
  },
  {
   "cell_type": "code",
   "execution_count": 4,
   "metadata": {},
   "outputs": [
    {
     "name": "stdout",
     "output_type": "stream",
     "text": [
      "\n",
      "Training data\n",
      "          userId  movieId  rating\n",
      "474735   99142     1247     5.0\n",
      "216504   44751     1193     4.0\n",
      "512114  107049      329     4.0\n",
      "605784  126153      590     4.0\n",
      "57555    11425      589     3.0\n",
      "...        ...      ...     ...\n",
      "211465   43605     1219     4.0\n",
      "387016   81197     1625     4.0\n",
      "105518   21592     2571     5.0\n",
      "48371     9618     1231     4.0\n",
      "78503    15729     1224     4.0\n",
      "\n",
      "[532700 rows x 3 columns]\n",
      "\n",
      "\n",
      "Testing data\n",
      "          userId  movieId  rating\n",
      "0            2      110     4.0\n",
      "2            2      891     2.0\n",
      "8            2     3928     5.0\n",
      "9            6        1     5.0\n",
      "13          10     1222     3.0\n",
      "...        ...      ...     ...\n",
      "665846  138483      535     5.0\n",
      "665866  138489     1275     4.0\n",
      "665870  138492      163     3.5\n",
      "665873  138492     1304     4.5\n",
      "665874  138492     2571     5.0\n",
      "\n",
      "[133175 rows x 3 columns]\n"
     ]
    }
   ],
   "source": [
    "train_data = filtered.sample(frac=0.8,random_state=200)\n",
    "test_data = filtered.drop(train_data.index)\n",
    "\n",
    "print('\\nTraining data\\n ', train_data)\n",
    "print('\\n\\nTesting data\\n ', test_data)"
   ]
  },
  {
   "cell_type": "markdown",
   "metadata": {},
   "source": [
    "#### Matrix of user item * movie item is created for the training data and the empty cells are filled with 0"
   ]
  },
  {
   "cell_type": "code",
   "execution_count": 5,
   "metadata": {
    "scrolled": false
   },
   "outputs": [
    {
     "name": "stdout",
     "output_type": "stream",
     "text": [
      "\n",
      "\n",
      " Matrix:\n"
     ]
    },
    {
     "data": {
      "text/html": [
       "<div>\n",
       "<style scoped>\n",
       "    .dataframe tbody tr th:only-of-type {\n",
       "        vertical-align: middle;\n",
       "    }\n",
       "\n",
       "    .dataframe tbody tr th {\n",
       "        vertical-align: top;\n",
       "    }\n",
       "\n",
       "    .dataframe thead th {\n",
       "        text-align: right;\n",
       "    }\n",
       "</style>\n",
       "<table border=\"1\" class=\"dataframe\">\n",
       "  <thead>\n",
       "    <tr style=\"text-align: right;\">\n",
       "      <th>movieId</th>\n",
       "      <th>1</th>\n",
       "      <th>2</th>\n",
       "      <th>4</th>\n",
       "      <th>5</th>\n",
       "      <th>6</th>\n",
       "      <th>9</th>\n",
       "      <th>10</th>\n",
       "      <th>15</th>\n",
       "      <th>16</th>\n",
       "      <th>18</th>\n",
       "      <th>...</th>\n",
       "      <th>7031</th>\n",
       "      <th>7035</th>\n",
       "      <th>7041</th>\n",
       "      <th>7249</th>\n",
       "      <th>7312</th>\n",
       "      <th>7761</th>\n",
       "      <th>7769</th>\n",
       "      <th>7953</th>\n",
       "      <th>7982</th>\n",
       "      <th>8191</th>\n",
       "    </tr>\n",
       "    <tr>\n",
       "      <th>userId</th>\n",
       "      <th></th>\n",
       "      <th></th>\n",
       "      <th></th>\n",
       "      <th></th>\n",
       "      <th></th>\n",
       "      <th></th>\n",
       "      <th></th>\n",
       "      <th></th>\n",
       "      <th></th>\n",
       "      <th></th>\n",
       "      <th></th>\n",
       "      <th></th>\n",
       "      <th></th>\n",
       "      <th></th>\n",
       "      <th></th>\n",
       "      <th></th>\n",
       "      <th></th>\n",
       "      <th></th>\n",
       "      <th></th>\n",
       "      <th></th>\n",
       "      <th></th>\n",
       "    </tr>\n",
       "  </thead>\n",
       "  <tbody>\n",
       "    <tr>\n",
       "      <th>2</th>\n",
       "      <td>0.0</td>\n",
       "      <td>0.0</td>\n",
       "      <td>0.0</td>\n",
       "      <td>0.0</td>\n",
       "      <td>0.0</td>\n",
       "      <td>0.0</td>\n",
       "      <td>0.0</td>\n",
       "      <td>0.0</td>\n",
       "      <td>0.0</td>\n",
       "      <td>0.0</td>\n",
       "      <td>...</td>\n",
       "      <td>0.0</td>\n",
       "      <td>0.0</td>\n",
       "      <td>0.0</td>\n",
       "      <td>0.0</td>\n",
       "      <td>0.0</td>\n",
       "      <td>0.0</td>\n",
       "      <td>0.0</td>\n",
       "      <td>0.0</td>\n",
       "      <td>0.0</td>\n",
       "      <td>0.0</td>\n",
       "    </tr>\n",
       "    <tr>\n",
       "      <th>6</th>\n",
       "      <td>0.0</td>\n",
       "      <td>0.0</td>\n",
       "      <td>0.0</td>\n",
       "      <td>0.0</td>\n",
       "      <td>0.0</td>\n",
       "      <td>0.0</td>\n",
       "      <td>0.0</td>\n",
       "      <td>0.0</td>\n",
       "      <td>0.0</td>\n",
       "      <td>0.0</td>\n",
       "      <td>...</td>\n",
       "      <td>0.0</td>\n",
       "      <td>0.0</td>\n",
       "      <td>0.0</td>\n",
       "      <td>0.0</td>\n",
       "      <td>0.0</td>\n",
       "      <td>0.0</td>\n",
       "      <td>0.0</td>\n",
       "      <td>0.0</td>\n",
       "      <td>0.0</td>\n",
       "      <td>0.0</td>\n",
       "    </tr>\n",
       "    <tr>\n",
       "      <th>10</th>\n",
       "      <td>4.0</td>\n",
       "      <td>0.0</td>\n",
       "      <td>0.0</td>\n",
       "      <td>0.0</td>\n",
       "      <td>0.0</td>\n",
       "      <td>0.0</td>\n",
       "      <td>0.0</td>\n",
       "      <td>0.0</td>\n",
       "      <td>0.0</td>\n",
       "      <td>0.0</td>\n",
       "      <td>...</td>\n",
       "      <td>0.0</td>\n",
       "      <td>0.0</td>\n",
       "      <td>0.0</td>\n",
       "      <td>0.0</td>\n",
       "      <td>0.0</td>\n",
       "      <td>0.0</td>\n",
       "      <td>0.0</td>\n",
       "      <td>0.0</td>\n",
       "      <td>0.0</td>\n",
       "      <td>0.0</td>\n",
       "    </tr>\n",
       "    <tr>\n",
       "      <th>13</th>\n",
       "      <td>4.0</td>\n",
       "      <td>3.0</td>\n",
       "      <td>0.0</td>\n",
       "      <td>0.0</td>\n",
       "      <td>0.0</td>\n",
       "      <td>0.0</td>\n",
       "      <td>0.0</td>\n",
       "      <td>0.0</td>\n",
       "      <td>0.0</td>\n",
       "      <td>0.0</td>\n",
       "      <td>...</td>\n",
       "      <td>0.0</td>\n",
       "      <td>0.0</td>\n",
       "      <td>0.0</td>\n",
       "      <td>0.0</td>\n",
       "      <td>0.0</td>\n",
       "      <td>0.0</td>\n",
       "      <td>0.0</td>\n",
       "      <td>0.0</td>\n",
       "      <td>0.0</td>\n",
       "      <td>0.0</td>\n",
       "    </tr>\n",
       "    <tr>\n",
       "      <th>17</th>\n",
       "      <td>0.0</td>\n",
       "      <td>0.0</td>\n",
       "      <td>0.0</td>\n",
       "      <td>0.0</td>\n",
       "      <td>4.0</td>\n",
       "      <td>0.0</td>\n",
       "      <td>0.0</td>\n",
       "      <td>0.0</td>\n",
       "      <td>0.0</td>\n",
       "      <td>0.0</td>\n",
       "      <td>...</td>\n",
       "      <td>0.0</td>\n",
       "      <td>0.0</td>\n",
       "      <td>0.0</td>\n",
       "      <td>0.0</td>\n",
       "      <td>0.0</td>\n",
       "      <td>0.0</td>\n",
       "      <td>0.0</td>\n",
       "      <td>0.0</td>\n",
       "      <td>0.0</td>\n",
       "      <td>0.0</td>\n",
       "    </tr>\n",
       "  </tbody>\n",
       "</table>\n",
       "<p>5 rows × 434 columns</p>\n",
       "</div>"
      ],
      "text/plain": [
       "movieId  1     2     4     5     6     9     10    15    16    18    ...  \\\n",
       "userId                                                               ...   \n",
       "2         0.0   0.0   0.0   0.0   0.0   0.0   0.0   0.0   0.0   0.0  ...   \n",
       "6         0.0   0.0   0.0   0.0   0.0   0.0   0.0   0.0   0.0   0.0  ...   \n",
       "10        4.0   0.0   0.0   0.0   0.0   0.0   0.0   0.0   0.0   0.0  ...   \n",
       "13        4.0   3.0   0.0   0.0   0.0   0.0   0.0   0.0   0.0   0.0  ...   \n",
       "17        0.0   0.0   0.0   0.0   4.0   0.0   0.0   0.0   0.0   0.0  ...   \n",
       "\n",
       "movieId  7031  7035  7041  7249  7312  7761  7769  7953  7982  8191  \n",
       "userId                                                               \n",
       "2         0.0   0.0   0.0   0.0   0.0   0.0   0.0   0.0   0.0   0.0  \n",
       "6         0.0   0.0   0.0   0.0   0.0   0.0   0.0   0.0   0.0   0.0  \n",
       "10        0.0   0.0   0.0   0.0   0.0   0.0   0.0   0.0   0.0   0.0  \n",
       "13        0.0   0.0   0.0   0.0   0.0   0.0   0.0   0.0   0.0   0.0  \n",
       "17        0.0   0.0   0.0   0.0   0.0   0.0   0.0   0.0   0.0   0.0  \n",
       "\n",
       "[5 rows x 434 columns]"
      ]
     },
     "execution_count": 5,
     "metadata": {},
     "output_type": "execute_result"
    }
   ],
   "source": [
    "matrix_movie_user = train_data.pivot(index='userId', columns='movieId', values='rating').fillna(0)\n",
    "print('\\n\\n Matrix:')\n",
    "matrix_movie_user.head()"
   ]
  },
  {
   "cell_type": "markdown",
   "metadata": {},
   "source": [
    "#### Getting only the values from the matrix"
   ]
  },
  {
   "cell_type": "code",
   "execution_count": 6,
   "metadata": {},
   "outputs": [],
   "source": [
    "d = matrix_movie_user.values\n",
    "userIds = matrix_movie_user.index"
   ]
  },
  {
   "cell_type": "markdown",
   "metadata": {},
   "source": [
    "#### Mean of the user ratings are computed and the demeaned data is stored into another ndarray"
   ]
  },
  {
   "cell_type": "code",
   "execution_count": 7,
   "metadata": {},
   "outputs": [],
   "source": [
    "mean_userratings = d.mean(axis = 1)\n",
    "ratings_demeaned = d - mean_userratings.reshape(-1, 1)"
   ]
  },
  {
   "cell_type": "markdown",
   "metadata": {},
   "source": [
    "### Training the Recommender System\n",
    "\n",
    "Functions for training the model using the training dataset are implemented below. The count of best features for Matrix Factorization is obtained by using RMSE evaluation metric."
   ]
  },
  {
   "cell_type": "code",
   "execution_count": 8,
   "metadata": {},
   "outputs": [],
   "source": [
    "from scipy.sparse.linalg import svds\n",
    "\n",
    "def performMF(data_demeaned, data, matrix, k, userIds):\n",
    "    U, sigma, Vt = svds(data_demeaned, k)\n",
    "    sigma = np.diag(sigma)\n",
    "    predicted_ratings = np.dot(np.dot(U, sigma), Vt) + data.reshape(-1, 1)\n",
    "    user_predictions = pd.DataFrame(predicted_ratings, columns = matrix.columns)\n",
    "    user_predictions = user_predictions.set_index(userIds)\n",
    "    return user_predictions\n",
    "\n",
    "def recommendMovies(user_predictions, movies, ratings, user_id, n_rec):\n",
    "    user_row_number = user_id\n",
    "    sorted_user_predictions = user_predictions.iloc[user_row_number].sort_values(ascending=False)\n",
    "    sorted_user_predictions.name = 'Predictions'\n",
    "    user_data = ratings[ratings.userId == user_id]\n",
    "    user_full = (user_data.merge(movies, how = 'left', left_on = 'movieId', right_on = 'movieId').sort_values(['rating'], ascending=False))\n",
    "    not_watched = movies[~movies['movieId'].isin(user_full['movieId'])]\n",
    "    recommendations = (not_watched.merge(pd.DataFrame(sorted_user_predictions).reset_index(), how = 'left', on = 'movieId').rename(columns = {user_row_number: 'Predictions'}).sort_values('Predictions', ascending = False).iloc[:n_rec, :-1])\n",
    "    return user_full, recommendations\n",
    "\n",
    "def performTrainingForMF(data_demeaned, data, matrix, userIds, n_features, movies, movies_genre, genres, train_data, userID, movie_name, n_rec):\n",
    "    user_predictions = performMF(data_demeaned, data, matrix, n_features, userIds)\n",
    "    already_rated, predictions = recommendMovies(user_predictions, movies, train_data, userID, n_rec)\n",
    "    user_pref = movies_df.loc[movies_df['title'] == movie_name, 'mean']\n",
    "    mean_user_pref = user_pref.values[0]\n",
    "    predictions = predictions.set_index('movieId')\n",
    "    predicted_movieIds = predictions.index\n",
    "    predicted_movie = movies_df.loc[predicted_movieIds, ['title','mean']]\n",
    "    rmse = np.sqrt(((predicted_movie['mean'] - mean_user_pref) ** 2).mean())\n",
    "    return rmse"
   ]
  },
  {
   "cell_type": "markdown",
   "metadata": {},
   "source": [
    "#### Finding the count of best features(can vary based on the dataset split).\n",
    "\n",
    "For user 2, 20 movies are predicted based on his choice of movie 'Star Trek: First Contact (1996)'."
   ]
  },
  {
   "cell_type": "code",
   "execution_count": 9,
   "metadata": {
    "scrolled": true
   },
   "outputs": [
    {
     "name": "stdout",
     "output_type": "stream",
     "text": [
      "[50, 70, 100]\n",
      "[0.3799323722937944, 0.37855470828341214, 0.3874543885646134]\n",
      "Best n Features:  70\n"
     ]
    }
   ],
   "source": [
    "aboutUser = filtered.groupby('userId').agg({'rating': ['count', 'mean']})\n",
    "aboutUser.columns = aboutUser.columns.droplevel()\n",
    "\n",
    "aboutMovie = filtered.groupby('movieId').agg({'rating': ['count', 'mean']})\n",
    "aboutMovie.columns = aboutMovie.columns.droplevel()\n",
    "\n",
    "n_features = [50, 70, 100]\n",
    "userID = 2\n",
    "nrec_fromMF = 20\n",
    "movie_name = 'Star Trek: First Contact (1996)'\n",
    "movies_df = pd.read_csv('Dataset/preprocessedMovies.csv', header=0)\n",
    "movies_df = movies_df.set_index('movieId')\n",
    "genres = movies_df.columns[1:21]\n",
    "movies_df = pd.merge(movies_df, aboutMovie['mean'], on='movieId', how='inner')\n",
    "rmse_nfeatures = []\n",
    "for n in n_features:\n",
    "    rmse = performTrainingForMF(ratings_demeaned, mean_userratings, matrix_movie_user, userIds, n, movies, movies_df, genres, train_data, userID, movie_name, nrec_fromMF)\n",
    "    rmse_nfeatures.append(rmse)\n",
    "best_nfeatures = n_features[rmse_nfeatures.index(min(rmse_nfeatures))]\n",
    "print(n_features)\n",
    "print(rmse_nfeatures)\n",
    "print('Best n Features: ', best_nfeatures)"
   ]
  },
  {
   "cell_type": "markdown",
   "metadata": {},
   "source": [
    "#### Already watched movies and the predicted movies are listed"
   ]
  },
  {
   "cell_type": "code",
   "execution_count": 10,
   "metadata": {
    "scrolled": true
   },
   "outputs": [
    {
     "name": "stdout",
     "output_type": "stream",
     "text": [
      "\n",
      "Already Rated Movies\n",
      "\n",
      "    userId  movieId  rating                                              title  \\\n",
      "0       2     1196     5.0  Star Wars: Episode V - The Empire Strikes Back...   \n",
      "1       2      589     5.0                  Terminator 2: Judgment Day (1991)   \n",
      "3       2     1356     5.0                    Star Trek: First Contact (1996)   \n",
      "5       2     1214     5.0                                       Alien (1979)   \n",
      "4       2     3917     4.0                                  Hellraiser (1987)   \n",
      "2       2     1970     2.0  Nightmare on Elm Street 3: Dream Warriors, A (...   \n",
      "\n",
      "                             genres  \n",
      "0           Action|Adventure|Sci-Fi  \n",
      "1                     Action|Sci-Fi  \n",
      "3  Action|Adventure|Sci-Fi|Thriller  \n",
      "5                     Horror|Sci-Fi  \n",
      "4                            Horror  \n",
      "2                   Horror|Thriller  \n",
      "\n",
      "\n",
      "Recommended Movies\n",
      "                                              title  \\\n",
      "movieId                                              \n",
      "1247                          Graduate, The (1967)   \n",
      "1                                 Toy Story (1995)   \n",
      "1230                             Annie Hall (1977)   \n",
      "1242                                  Glory (1989)   \n",
      "1304     Butch Cassidy and the Sundance Kid (1969)   \n",
      "1921                                     Pi (1998)   \n",
      "3359                          Breaking Away (1979)   \n",
      "1057               Everyone Says I Love You (1996)   \n",
      "1231                       Right Stuff, The (1983)   \n",
      "3168                             Easy Rider (1969)   \n",
      "1275                             Highlander (1986)   \n",
      "765                                    Jack (1996)   \n",
      "1224                                Henry V (1989)   \n",
      "1944                  From Here to Eternity (1953)   \n",
      "1254      Treasure of the Sierra Madre, The (1948)   \n",
      "493                       Menace II Society (1993)   \n",
      "1257                     Better Off Dead... (1985)   \n",
      "1189                    Thin Blue Line, The (1988)   \n",
      "1178                         Paths of Glory (1957)   \n",
      "724                              Craft, The (1996)   \n",
      "\n",
      "                                              genres  \n",
      "movieId                                               \n",
      "1247                            Comedy|Drama|Romance  \n",
      "1        Adventure|Animation|Children|Comedy|Fantasy  \n",
      "1230                                  Comedy|Romance  \n",
      "1242                                       Drama|War  \n",
      "1304                                  Action|Western  \n",
      "1921                           Drama|Sci-Fi|Thriller  \n",
      "3359                                    Comedy|Drama  \n",
      "1057                          Comedy|Musical|Romance  \n",
      "1231                                           Drama  \n",
      "3168                                 Adventure|Drama  \n",
      "1275                        Action|Adventure|Fantasy  \n",
      "765                                     Comedy|Drama  \n",
      "1224                        Action|Drama|Romance|War  \n",
      "1944                               Drama|Romance|War  \n",
      "1254                  Action|Adventure|Drama|Western  \n",
      "493                               Action|Crime|Drama  \n",
      "1257                                  Comedy|Romance  \n",
      "1189                                     Documentary  \n",
      "1178                                       Drama|War  \n",
      "724                    Drama|Fantasy|Horror|Thriller  \n"
     ]
    }
   ],
   "source": [
    "def getPredictionsforBestnFeatures(data_demeaned, data, matrix, userIds, n_features, movies, movies_genre, genres, train_data, userID, movie_name, n_rec):\n",
    "    user_predictions = performMF(data_demeaned, data, matrix, n_features, userIds)\n",
    "    already_rated, predictions = recommendMovies(user_predictions, movies, train_data, userID, n_rec)\n",
    "    user_pref = movies_df.loc[movies_df['title'] == movie_name, 'mean']\n",
    "    mean_user_pref = user_pref.values[0]\n",
    "    predictions = predictions.set_index('movieId')\n",
    "    return already_rated, predictions\n",
    "\n",
    "already_rated, predictions = getPredictionsforBestnFeatures(ratings_demeaned, mean_userratings, matrix_movie_user, userIds, best_nfeatures, movies, movies_df, genres, train_data, userID, movie_name, nrec_fromMF)\n",
    "print('\\nAlready Rated Movies\\n\\n', already_rated)\n",
    "print('\\n\\nRecommended Movies\\n', predictions)"
   ]
  },
  {
   "cell_type": "markdown",
   "metadata": {},
   "source": [
    "#### kNN can now be used to find the similar movies based on user's selection.\n",
    "\n",
    "Here the predicted movies are compared using (cosine similarity) to the user's selected movie and the most similar movies are recommended to the user."
   ]
  },
  {
   "cell_type": "code",
   "execution_count": 11,
   "metadata": {},
   "outputs": [],
   "source": [
    "def vectorizedCosineSimilarity(user_vector, vector_data):\n",
    "    np.seterr(divide='ignore', invalid='ignore')\n",
    "    similarities = np.dot(user_vector/np.linalg.norm(user_vector, axis=1)[...,None],(vector_data/np.linalg.norm(vector_data,axis=1)[...,None]).T)\n",
    "    np.seterr(divide='warn', invalid='warn')\n",
    "    return similarities\n",
    "\n",
    "def getRecommendedMovieDetails(data, movies_df, genres):\n",
    "    movieIds = data.index.to_numpy()\n",
    "    genre_list = genres.tolist()\n",
    "    genre_det = movies_df.loc[movieIds.tolist(), genre_list]\n",
    "    return movieIds, genre_det.values\n",
    "\n",
    "def getDetailsUserPrefMovie(movie_name, movies_df, genres):\n",
    "    user_pref_movie = movies_df.loc[movies_df['title'] == movie_name, genres]\n",
    "    user_pref_vector = user_pref_movie.values\n",
    "    return user_pref_vector\n",
    "\n",
    "def performkNN(user_pref_vector, recommended_movie_vectors, n_nearest):\n",
    "    similarity = vectorizedCosineSimilarity(user_pref_vector, recommended_movie_vectors)\n",
    "    ind = np.argpartition(similarity[0], -n_nearest)[-n_nearest:]\n",
    "    recommended_movieIds = movieIds[ind]\n",
    "    recommended_movies = movies_df.loc[recommended_movieIds, ['title', 'mean']]\n",
    "    return recommended_movies"
   ]
  },
  {
   "cell_type": "markdown",
   "metadata": {},
   "source": [
    "#### kNN is used to list the recommended movies.\n",
    "\n",
    "The mean ratings of the movies have been displayed alongside and it can be seen that they are as good as the user's selection."
   ]
  },
  {
   "cell_type": "code",
   "execution_count": 12,
   "metadata": {},
   "outputs": [
    {
     "name": "stdout",
     "output_type": "stream",
     "text": [
      "                                             title      mean\n",
      "movieId                                                     \n",
      "765                                    Jack (1996)  3.061271\n",
      "1                                 Toy Story (1995)  3.925835\n",
      "724                              Craft, The (1996)  3.065250\n",
      "1224                                Henry V (1989)  4.122016\n",
      "1254      Treasure of the Sierra Madre, The (1948)  4.190814\n",
      "493                       Menace II Society (1993)  3.605736\n",
      "1275                             Highlander (1986)  3.595580\n",
      "1921                                     Pi (1998)  3.709809\n",
      "1304     Butch Cassidy and the Sundance Kid (1969)  4.051922\n",
      "3168                             Easy Rider (1969)  3.724755\n"
     ]
    }
   ],
   "source": [
    "movie_name = 'Star Trek: First Contact (1996)'\n",
    "k_nearest = 10\n",
    "user_pref_vector = getDetailsUserPrefMovie(movie_name, movies_df, genres)\n",
    "movieIds, recommended_movie_genre_values_MF = getRecommendedMovieDetails(predictions, movies_df, genres)\n",
    "recommended_movies = performkNN(user_pref_vector, recommended_movie_genre_values_MF, k_nearest)\n",
    "print(recommended_movies)"
   ]
  },
  {
   "cell_type": "markdown",
   "metadata": {},
   "source": [
    "#### Mean ratings of the user's selected movie"
   ]
  },
  {
   "cell_type": "code",
   "execution_count": 13,
   "metadata": {},
   "outputs": [
    {
     "name": "stdout",
     "output_type": "stream",
     "text": [
      "[3.66628346]\n"
     ]
    }
   ],
   "source": [
    "rating_user_pref = movies_df.loc[movies_df['title'] == movie_name, 'mean'].values\n",
    "print(rating_user_pref)"
   ]
  },
  {
   "cell_type": "markdown",
   "metadata": {},
   "source": [
    "#### Mean rating of all the recommended movies"
   ]
  },
  {
   "cell_type": "code",
   "execution_count": 14,
   "metadata": {},
   "outputs": [
    {
     "name": "stdout",
     "output_type": "stream",
     "text": [
      "3.7052988406175813\n"
     ]
    }
   ],
   "source": [
    "mean_recommendedMovies = recommended_movies['mean'].mean()\n",
    "print(mean_recommendedMovies)"
   ]
  },
  {
   "cell_type": "markdown",
   "metadata": {},
   "source": [
    "### Testing the Recommender System\n",
    "\n",
    "Test Data has been used for testing the recommender system."
   ]
  },
  {
   "cell_type": "code",
   "execution_count": 15,
   "metadata": {},
   "outputs": [
    {
     "name": "stdout",
     "output_type": "stream",
     "text": [
      "Test Data\n",
      "         userId  movieId  rating\n",
      "0            2      110     4.0\n",
      "2            2      891     2.0\n",
      "8            2     3928     5.0\n",
      "9            6        1     5.0\n",
      "13          10     1222     3.0\n",
      "...        ...      ...     ...\n",
      "665846  138483      535     5.0\n",
      "665866  138489     1275     4.0\n",
      "665870  138492      163     3.5\n",
      "665873  138492     1304     4.5\n",
      "665874  138492     2571     5.0\n",
      "\n",
      "[133175 rows x 3 columns]\n",
      "\n",
      "\n",
      " Matrix:\n"
     ]
    },
    {
     "data": {
      "text/html": [
       "<div>\n",
       "<style scoped>\n",
       "    .dataframe tbody tr th:only-of-type {\n",
       "        vertical-align: middle;\n",
       "    }\n",
       "\n",
       "    .dataframe tbody tr th {\n",
       "        vertical-align: top;\n",
       "    }\n",
       "\n",
       "    .dataframe thead th {\n",
       "        text-align: right;\n",
       "    }\n",
       "</style>\n",
       "<table border=\"1\" class=\"dataframe\">\n",
       "  <thead>\n",
       "    <tr style=\"text-align: right;\">\n",
       "      <th>movieId</th>\n",
       "      <th>1</th>\n",
       "      <th>2</th>\n",
       "      <th>4</th>\n",
       "      <th>5</th>\n",
       "      <th>6</th>\n",
       "      <th>9</th>\n",
       "      <th>10</th>\n",
       "      <th>15</th>\n",
       "      <th>16</th>\n",
       "      <th>18</th>\n",
       "      <th>...</th>\n",
       "      <th>7031</th>\n",
       "      <th>7035</th>\n",
       "      <th>7041</th>\n",
       "      <th>7249</th>\n",
       "      <th>7312</th>\n",
       "      <th>7761</th>\n",
       "      <th>7769</th>\n",
       "      <th>7953</th>\n",
       "      <th>7982</th>\n",
       "      <th>8191</th>\n",
       "    </tr>\n",
       "    <tr>\n",
       "      <th>userId</th>\n",
       "      <th></th>\n",
       "      <th></th>\n",
       "      <th></th>\n",
       "      <th></th>\n",
       "      <th></th>\n",
       "      <th></th>\n",
       "      <th></th>\n",
       "      <th></th>\n",
       "      <th></th>\n",
       "      <th></th>\n",
       "      <th></th>\n",
       "      <th></th>\n",
       "      <th></th>\n",
       "      <th></th>\n",
       "      <th></th>\n",
       "      <th></th>\n",
       "      <th></th>\n",
       "      <th></th>\n",
       "      <th></th>\n",
       "      <th></th>\n",
       "      <th></th>\n",
       "    </tr>\n",
       "  </thead>\n",
       "  <tbody>\n",
       "    <tr>\n",
       "      <th>2</th>\n",
       "      <td>0.0</td>\n",
       "      <td>0.0</td>\n",
       "      <td>0.0</td>\n",
       "      <td>0.0</td>\n",
       "      <td>0.0</td>\n",
       "      <td>0.0</td>\n",
       "      <td>0.0</td>\n",
       "      <td>0.0</td>\n",
       "      <td>0.0</td>\n",
       "      <td>0.0</td>\n",
       "      <td>...</td>\n",
       "      <td>0.0</td>\n",
       "      <td>0.0</td>\n",
       "      <td>0.0</td>\n",
       "      <td>0.0</td>\n",
       "      <td>0.0</td>\n",
       "      <td>0.0</td>\n",
       "      <td>0.0</td>\n",
       "      <td>0.0</td>\n",
       "      <td>0.0</td>\n",
       "      <td>0.0</td>\n",
       "    </tr>\n",
       "    <tr>\n",
       "      <th>6</th>\n",
       "      <td>5.0</td>\n",
       "      <td>0.0</td>\n",
       "      <td>0.0</td>\n",
       "      <td>0.0</td>\n",
       "      <td>0.0</td>\n",
       "      <td>0.0</td>\n",
       "      <td>0.0</td>\n",
       "      <td>0.0</td>\n",
       "      <td>0.0</td>\n",
       "      <td>0.0</td>\n",
       "      <td>...</td>\n",
       "      <td>0.0</td>\n",
       "      <td>0.0</td>\n",
       "      <td>0.0</td>\n",
       "      <td>0.0</td>\n",
       "      <td>0.0</td>\n",
       "      <td>0.0</td>\n",
       "      <td>0.0</td>\n",
       "      <td>0.0</td>\n",
       "      <td>0.0</td>\n",
       "      <td>0.0</td>\n",
       "    </tr>\n",
       "    <tr>\n",
       "      <th>10</th>\n",
       "      <td>0.0</td>\n",
       "      <td>0.0</td>\n",
       "      <td>0.0</td>\n",
       "      <td>0.0</td>\n",
       "      <td>0.0</td>\n",
       "      <td>0.0</td>\n",
       "      <td>0.0</td>\n",
       "      <td>0.0</td>\n",
       "      <td>0.0</td>\n",
       "      <td>0.0</td>\n",
       "      <td>...</td>\n",
       "      <td>0.0</td>\n",
       "      <td>0.0</td>\n",
       "      <td>0.0</td>\n",
       "      <td>0.0</td>\n",
       "      <td>0.0</td>\n",
       "      <td>0.0</td>\n",
       "      <td>0.0</td>\n",
       "      <td>0.0</td>\n",
       "      <td>0.0</td>\n",
       "      <td>0.0</td>\n",
       "    </tr>\n",
       "    <tr>\n",
       "      <th>13</th>\n",
       "      <td>0.0</td>\n",
       "      <td>0.0</td>\n",
       "      <td>0.0</td>\n",
       "      <td>0.0</td>\n",
       "      <td>0.0</td>\n",
       "      <td>0.0</td>\n",
       "      <td>3.0</td>\n",
       "      <td>0.0</td>\n",
       "      <td>0.0</td>\n",
       "      <td>0.0</td>\n",
       "      <td>...</td>\n",
       "      <td>0.0</td>\n",
       "      <td>0.0</td>\n",
       "      <td>0.0</td>\n",
       "      <td>0.0</td>\n",
       "      <td>0.0</td>\n",
       "      <td>0.0</td>\n",
       "      <td>0.0</td>\n",
       "      <td>0.0</td>\n",
       "      <td>0.0</td>\n",
       "      <td>0.0</td>\n",
       "    </tr>\n",
       "    <tr>\n",
       "      <th>17</th>\n",
       "      <td>0.0</td>\n",
       "      <td>0.0</td>\n",
       "      <td>0.0</td>\n",
       "      <td>0.0</td>\n",
       "      <td>0.0</td>\n",
       "      <td>0.0</td>\n",
       "      <td>0.0</td>\n",
       "      <td>0.0</td>\n",
       "      <td>0.0</td>\n",
       "      <td>0.0</td>\n",
       "      <td>...</td>\n",
       "      <td>0.0</td>\n",
       "      <td>0.0</td>\n",
       "      <td>0.0</td>\n",
       "      <td>0.0</td>\n",
       "      <td>0.0</td>\n",
       "      <td>0.0</td>\n",
       "      <td>0.0</td>\n",
       "      <td>0.0</td>\n",
       "      <td>0.0</td>\n",
       "      <td>0.0</td>\n",
       "    </tr>\n",
       "  </tbody>\n",
       "</table>\n",
       "<p>5 rows × 426 columns</p>\n",
       "</div>"
      ],
      "text/plain": [
       "movieId  1     2     4     5     6     9     10    15    16    18    ...  \\\n",
       "userId                                                               ...   \n",
       "2         0.0   0.0   0.0   0.0   0.0   0.0   0.0   0.0   0.0   0.0  ...   \n",
       "6         5.0   0.0   0.0   0.0   0.0   0.0   0.0   0.0   0.0   0.0  ...   \n",
       "10        0.0   0.0   0.0   0.0   0.0   0.0   0.0   0.0   0.0   0.0  ...   \n",
       "13        0.0   0.0   0.0   0.0   0.0   0.0   3.0   0.0   0.0   0.0  ...   \n",
       "17        0.0   0.0   0.0   0.0   0.0   0.0   0.0   0.0   0.0   0.0  ...   \n",
       "\n",
       "movieId  7031  7035  7041  7249  7312  7761  7769  7953  7982  8191  \n",
       "userId                                                               \n",
       "2         0.0   0.0   0.0   0.0   0.0   0.0   0.0   0.0   0.0   0.0  \n",
       "6         0.0   0.0   0.0   0.0   0.0   0.0   0.0   0.0   0.0   0.0  \n",
       "10        0.0   0.0   0.0   0.0   0.0   0.0   0.0   0.0   0.0   0.0  \n",
       "13        0.0   0.0   0.0   0.0   0.0   0.0   0.0   0.0   0.0   0.0  \n",
       "17        0.0   0.0   0.0   0.0   0.0   0.0   0.0   0.0   0.0   0.0  \n",
       "\n",
       "[5 rows x 426 columns]"
      ]
     },
     "execution_count": 15,
     "metadata": {},
     "output_type": "execute_result"
    }
   ],
   "source": [
    "print('Test Data\\n', test_data)\n",
    "\n",
    "matrix_movie_user_test_data = test_data.pivot(index='userId', columns='movieId', values='rating').fillna(0)\n",
    "print('\\n\\n Matrix:')\n",
    "matrix_movie_user_test_data.head()"
   ]
  },
  {
   "cell_type": "markdown",
   "metadata": {},
   "source": [
    "#### The already rated movies and the predicted movies are listed"
   ]
  },
  {
   "cell_type": "code",
   "execution_count": 16,
   "metadata": {},
   "outputs": [
    {
     "name": "stdout",
     "output_type": "stream",
     "text": [
      "\n",
      "Already Rated Movies\n",
      "\n",
      "    userId  movieId  rating                                              title  \\\n",
      "2       2     3928     5.0       Abbott and Costello Meet Frankenstein (1948)   \n",
      "0       2      110     4.0                                  Braveheart (1995)   \n",
      "1       2      891     2.0  Halloween: The Curse of Michael Myers (Hallowe...   \n",
      "\n",
      "             genres  \n",
      "2     Comedy|Horror  \n",
      "0  Action|Drama|War  \n",
      "1   Horror|Thriller  \n",
      "\n",
      "\n",
      "Recommended Movies\n",
      "                                              title  \\\n",
      "movieId                                              \n",
      "1250          Bridge on the River Kwai, The (1957)   \n",
      "1222                      Full Metal Jacket (1987)   \n",
      "3359                          Breaking Away (1979)   \n",
      "1884         Fear and Loathing in Las Vegas (1998)   \n",
      "1178                         Paths of Glory (1957)   \n",
      "3168                             Easy Rider (1969)   \n",
      "1927         All Quiet on the Western Front (1930)   \n",
      "1104              Streetcar Named Desire, A (1951)   \n",
      "290                      Once Were Warriors (1994)   \n",
      "3702                                Mad Max (1979)   \n",
      "1343                              Cape Fear (1991)   \n",
      "1224                                Henry V (1989)   \n",
      "952             Around the World in 80 Days (1956)   \n",
      "1944                  From Here to Eternity (1953)   \n",
      "1254      Treasure of the Sierra Madre, The (1948)   \n",
      "5               Father of the Bride Part II (1995)   \n",
      "428                           Bronx Tale, A (1993)   \n",
      "1218     Killer, The (Die xue shuang xiong) (1989)   \n",
      "257                              Just Cause (1995)   \n",
      "1175                           Delicatessen (1991)   \n",
      "\n",
      "                                 genres  \n",
      "movieId                                  \n",
      "1250                Adventure|Drama|War  \n",
      "1222                          Drama|War  \n",
      "3359                       Comedy|Drama  \n",
      "1884             Adventure|Comedy|Drama  \n",
      "1178                          Drama|War  \n",
      "3168                    Adventure|Drama  \n",
      "1927                   Action|Drama|War  \n",
      "1104                              Drama  \n",
      "290                         Crime|Drama  \n",
      "3702            Action|Adventure|Sci-Fi  \n",
      "1343                           Thriller  \n",
      "1224           Action|Drama|Romance|War  \n",
      "952                    Adventure|Comedy  \n",
      "1944                  Drama|Romance|War  \n",
      "1254     Action|Adventure|Drama|Western  \n",
      "5                                Comedy  \n",
      "428                               Drama  \n",
      "1218        Action|Crime|Drama|Thriller  \n",
      "257                    Mystery|Thriller  \n",
      "1175               Comedy|Drama|Romance  \n"
     ]
    }
   ],
   "source": [
    "d_test_data = matrix_movie_user_test_data.values\n",
    "userIds_test_data = matrix_movie_user_test_data.index\n",
    "mean_userratings_test_data = d_test_data.mean(axis = 1)\n",
    "ratings_demeaned_test_data = d_test_data - mean_userratings_test_data.reshape(-1, 1)\n",
    "\n",
    "n_features = best_nfeatures\n",
    "userID = 2\n",
    "nrec_fromMF = 20\n",
    "movie_name = 'Braveheart (1995)'\n",
    "already_rated_test_data, predictions_test_data = getPredictionsforBestnFeatures(ratings_demeaned_test_data, mean_userratings_test_data, matrix_movie_user_test_data, userIds_test_data, n_features, movies, movies_df, genres, test_data, userID, movie_name, nrec_fromMF)\n",
    "print('\\nAlready Rated Movies\\n\\n', already_rated_test_data)\n",
    "print('\\n\\nRecommended Movies\\n', predictions_test_data)"
   ]
  },
  {
   "cell_type": "markdown",
   "metadata": {},
   "source": [
    "#### The best predicted movies are recommended to the user using the kNN algorithm"
   ]
  },
  {
   "cell_type": "code",
   "execution_count": 17,
   "metadata": {},
   "outputs": [
    {
     "name": "stdout",
     "output_type": "stream",
     "text": [
      "                                             title      mean\n",
      "movieId                                                     \n",
      "1254      Treasure of the Sierra Madre, The (1948)  4.190814\n",
      "1104              Streetcar Named Desire, A (1951)  4.010700\n",
      "1250          Bridge on the River Kwai, The (1957)  4.124499\n",
      "1944                  From Here to Eternity (1953)  3.973186\n",
      "1218     Killer, The (Die xue shuang xiong) (1989)  4.088297\n",
      "428                           Bronx Tale, A (1993)  3.836240\n",
      "1178                         Paths of Glory (1957)  4.263023\n",
      "1224                                Henry V (1989)  4.122016\n",
      "1222                      Full Metal Jacket (1987)  4.037757\n",
      "1927         All Quiet on the Western Front (1930)  3.923302\n"
     ]
    }
   ],
   "source": [
    "movie_name = 'Braveheart (1995)'\n",
    "k_nearest = 10\n",
    "user_pref_vector_test = getDetailsUserPrefMovie(movie_name, movies_df, genres)\n",
    "movieIds, recommended_movie_genre_values_MF_test = getRecommendedMovieDetails(predictions_test_data, movies_df, genres)\n",
    "recommended_movies_test = performkNN(user_pref_vector_test, recommended_movie_genre_values_MF_test, k_nearest)\n",
    "print(recommended_movies_test)"
   ]
  },
  {
   "cell_type": "markdown",
   "metadata": {},
   "source": [
    "#### Mean rating of the user's selected movie"
   ]
  },
  {
   "cell_type": "code",
   "execution_count": 18,
   "metadata": {},
   "outputs": [
    {
     "name": "stdout",
     "output_type": "stream",
     "text": [
      "[4.04419729]\n"
     ]
    }
   ],
   "source": [
    "rating_user_pref_test = movies_df.loc[movies_df['title'] == movie_name, 'mean'].values\n",
    "print(rating_user_pref_test)"
   ]
  },
  {
   "cell_type": "markdown",
   "metadata": {},
   "source": [
    "#### Mean rating of the recommended movies"
   ]
  },
  {
   "cell_type": "code",
   "execution_count": 19,
   "metadata": {},
   "outputs": [
    {
     "name": "stdout",
     "output_type": "stream",
     "text": [
      "4.056983540651212\n"
     ]
    }
   ],
   "source": [
    "mean_recommendedMovies_test = recommended_movies_test['mean'].mean()\n",
    "print(mean_recommendedMovies_test)"
   ]
  },
  {
   "cell_type": "markdown",
   "metadata": {},
   "source": [
    "### Evaluating the Recommender System\n",
    "\n",
    "#### For training data"
   ]
  },
  {
   "cell_type": "code",
   "execution_count": 20,
   "metadata": {},
   "outputs": [
    {
     "name": "stdout",
     "output_type": "stream",
     "text": [
      "Mean rating of user's selected movie:  3.666283461980621\n",
      "                                             title      mean\n",
      "movieId                                                     \n",
      "765                                    Jack (1996)  3.061271\n",
      "1                                 Toy Story (1995)  3.925835\n",
      "724                              Craft, The (1996)  3.065250\n",
      "1224                                Henry V (1989)  4.122016\n",
      "1254      Treasure of the Sierra Madre, The (1948)  4.190814\n",
      "493                       Menace II Society (1993)  3.605736\n",
      "1275                             Highlander (1986)  3.595580\n",
      "1921                                     Pi (1998)  3.709809\n",
      "1304     Butch Cassidy and the Sundance Kid (1969)  4.051922\n",
      "3168                             Easy Rider (1969)  3.724755\n",
      "\n",
      "\n",
      "RMSE:\n",
      "0.37949542319066215\n"
     ]
    }
   ],
   "source": [
    "print('Mean rating of user\\'s selected movie: ' , rating_user_pref[0])\n",
    "\n",
    "print(recommended_movies)\n",
    "\n",
    "print('\\n\\nRMSE:')\n",
    "\n",
    "rmse_train = np.sqrt(((recommended_movies['mean'] - rating_user_pref[0]) ** 2).mean())\n",
    "print(rmse_train)"
   ]
  },
  {
   "cell_type": "markdown",
   "metadata": {},
   "source": [
    "#### For test data"
   ]
  },
  {
   "cell_type": "code",
   "execution_count": 21,
   "metadata": {},
   "outputs": [
    {
     "name": "stdout",
     "output_type": "stream",
     "text": [
      "Mean rating of user's selected movie:  4.044197286438013\n",
      "                                             title      mean\n",
      "movieId                                                     \n",
      "1254      Treasure of the Sierra Madre, The (1948)  4.190814\n",
      "1104              Streetcar Named Desire, A (1951)  4.010700\n",
      "1250          Bridge on the River Kwai, The (1957)  4.124499\n",
      "1944                  From Here to Eternity (1953)  3.973186\n",
      "1218     Killer, The (Die xue shuang xiong) (1989)  4.088297\n",
      "428                           Bronx Tale, A (1993)  3.836240\n",
      "1178                         Paths of Glory (1957)  4.263023\n",
      "1224                                Henry V (1989)  4.122016\n",
      "1222                      Full Metal Jacket (1987)  4.037757\n",
      "1927         All Quiet on the Western Front (1930)  3.923302\n",
      "\n",
      "\n",
      "RMSE:\n",
      "0.12161328825993363\n"
     ]
    }
   ],
   "source": [
    "print('Mean rating of user\\'s selected movie: ' , rating_user_pref_test[0])\n",
    "\n",
    "print(recommended_movies_test)\n",
    "\n",
    "print('\\n\\nRMSE:')\n",
    "\n",
    "rmse_test = np.sqrt(((recommended_movies_test['mean'] - rating_user_pref_test[0]) ** 2).mean())\n",
    "print(rmse_test)"
   ]
  },
  {
   "cell_type": "markdown",
   "metadata": {},
   "source": [
    "#### The recommender system did a good job.\n",
    "\n",
    "This can be noted from the RMSE which was used to evaluate the performance of the system."
   ]
  }
 ],
 "metadata": {
  "kernelspec": {
   "display_name": "Python 3.8.1 32-bit",
   "language": "python",
   "name": "python38132bit810594cca71e43f5b0ebcd95ecfe7fc2"
  },
  "language_info": {
   "codemirror_mode": {
    "name": "ipython",
    "version": 3
   },
   "file_extension": ".py",
   "mimetype": "text/x-python",
   "name": "python",
   "nbconvert_exporter": "python",
   "pygments_lexer": "ipython3",
   "version": "3.8.1"
  }
 },
 "nbformat": 4,
 "nbformat_minor": 4
}
