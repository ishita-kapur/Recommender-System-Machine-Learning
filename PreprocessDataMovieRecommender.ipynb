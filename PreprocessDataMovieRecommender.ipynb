{
 "cells": [
  {
   "cell_type": "markdown",
   "metadata": {},
   "source": [
    "## Recommender System using kNN (Preprocessing)\n",
    "\n",
    "### - Ishita Kapur\n",
    "\n",
    "\n",
    "\n",
    "### Dataset\n",
    "\n",
    "MovieLens https://grouplens.org/datasets/movielens/20m/"
   ]
  },
  {
   "cell_type": "markdown",
   "metadata": {},
   "source": [
    "#### Import the required libraries"
   ]
  },
  {
   "cell_type": "code",
   "execution_count": 1,
   "metadata": {},
   "outputs": [],
   "source": [
    "import numpy as np\n",
    "import pandas as pd"
   ]
  },
  {
   "cell_type": "markdown",
   "metadata": {},
   "source": [
    "#### Read the ratings data into a dataframe"
   ]
  },
  {
   "cell_type": "code",
   "execution_count": 2,
   "metadata": {},
   "outputs": [
    {
     "data": {
      "text/html": [
       "<div>\n",
       "<style scoped>\n",
       "    .dataframe tbody tr th:only-of-type {\n",
       "        vertical-align: middle;\n",
       "    }\n",
       "\n",
       "    .dataframe tbody tr th {\n",
       "        vertical-align: top;\n",
       "    }\n",
       "\n",
       "    .dataframe thead th {\n",
       "        text-align: right;\n",
       "    }\n",
       "</style>\n",
       "<table border=\"1\" class=\"dataframe\">\n",
       "  <thead>\n",
       "    <tr style=\"text-align: right;\">\n",
       "      <th></th>\n",
       "      <th>userId</th>\n",
       "      <th>movieId</th>\n",
       "      <th>rating</th>\n",
       "    </tr>\n",
       "  </thead>\n",
       "  <tbody>\n",
       "    <tr>\n",
       "      <th>0</th>\n",
       "      <td>1</td>\n",
       "      <td>2</td>\n",
       "      <td>3.5</td>\n",
       "    </tr>\n",
       "    <tr>\n",
       "      <th>1</th>\n",
       "      <td>1</td>\n",
       "      <td>29</td>\n",
       "      <td>3.5</td>\n",
       "    </tr>\n",
       "    <tr>\n",
       "      <th>2</th>\n",
       "      <td>1</td>\n",
       "      <td>32</td>\n",
       "      <td>3.5</td>\n",
       "    </tr>\n",
       "    <tr>\n",
       "      <th>3</th>\n",
       "      <td>1</td>\n",
       "      <td>47</td>\n",
       "      <td>3.5</td>\n",
       "    </tr>\n",
       "    <tr>\n",
       "      <th>4</th>\n",
       "      <td>1</td>\n",
       "      <td>50</td>\n",
       "      <td>3.5</td>\n",
       "    </tr>\n",
       "  </tbody>\n",
       "</table>\n",
       "</div>"
      ],
      "text/plain": [
       "   userId  movieId  rating\n",
       "0       1        2     3.5\n",
       "1       1       29     3.5\n",
       "2       1       32     3.5\n",
       "3       1       47     3.5\n",
       "4       1       50     3.5"
      ]
     },
     "execution_count": 2,
     "metadata": {},
     "output_type": "execute_result"
    }
   ],
   "source": [
    "ratings = pd.read_csv('ml-20m/ml-20m/ratings.csv', header=0, usecols=range(3))\n",
    "ratings.head()"
   ]
  },
  {
   "cell_type": "markdown",
   "metadata": {},
   "source": [
    "#### Read the movies data into a dataframe"
   ]
  },
  {
   "cell_type": "code",
   "execution_count": 3,
   "metadata": {},
   "outputs": [
    {
     "data": {
      "text/html": [
       "<div>\n",
       "<style scoped>\n",
       "    .dataframe tbody tr th:only-of-type {\n",
       "        vertical-align: middle;\n",
       "    }\n",
       "\n",
       "    .dataframe tbody tr th {\n",
       "        vertical-align: top;\n",
       "    }\n",
       "\n",
       "    .dataframe thead th {\n",
       "        text-align: right;\n",
       "    }\n",
       "</style>\n",
       "<table border=\"1\" class=\"dataframe\">\n",
       "  <thead>\n",
       "    <tr style=\"text-align: right;\">\n",
       "      <th></th>\n",
       "      <th>movieId</th>\n",
       "      <th>title</th>\n",
       "      <th>genres</th>\n",
       "    </tr>\n",
       "  </thead>\n",
       "  <tbody>\n",
       "    <tr>\n",
       "      <th>0</th>\n",
       "      <td>1</td>\n",
       "      <td>Toy Story (1995)</td>\n",
       "      <td>Adventure|Animation|Children|Comedy|Fantasy</td>\n",
       "    </tr>\n",
       "    <tr>\n",
       "      <th>1</th>\n",
       "      <td>2</td>\n",
       "      <td>Jumanji (1995)</td>\n",
       "      <td>Adventure|Children|Fantasy</td>\n",
       "    </tr>\n",
       "    <tr>\n",
       "      <th>2</th>\n",
       "      <td>3</td>\n",
       "      <td>Grumpier Old Men (1995)</td>\n",
       "      <td>Comedy|Romance</td>\n",
       "    </tr>\n",
       "    <tr>\n",
       "      <th>3</th>\n",
       "      <td>4</td>\n",
       "      <td>Waiting to Exhale (1995)</td>\n",
       "      <td>Comedy|Drama|Romance</td>\n",
       "    </tr>\n",
       "    <tr>\n",
       "      <th>4</th>\n",
       "      <td>5</td>\n",
       "      <td>Father of the Bride Part II (1995)</td>\n",
       "      <td>Comedy</td>\n",
       "    </tr>\n",
       "  </tbody>\n",
       "</table>\n",
       "</div>"
      ],
      "text/plain": [
       "   movieId                               title  \\\n",
       "0        1                    Toy Story (1995)   \n",
       "1        2                      Jumanji (1995)   \n",
       "2        3             Grumpier Old Men (1995)   \n",
       "3        4            Waiting to Exhale (1995)   \n",
       "4        5  Father of the Bride Part II (1995)   \n",
       "\n",
       "                                        genres  \n",
       "0  Adventure|Animation|Children|Comedy|Fantasy  \n",
       "1                   Adventure|Children|Fantasy  \n",
       "2                               Comedy|Romance  \n",
       "3                         Comedy|Drama|Romance  \n",
       "4                                       Comedy  "
      ]
     },
     "execution_count": 3,
     "metadata": {},
     "output_type": "execute_result"
    }
   ],
   "source": [
    "movies = pd.read_csv('ml-20m/ml-20m/movies.csv', header=0, usecols=range(3))\n",
    "movies.head()"
   ]
  },
  {
   "cell_type": "markdown",
   "metadata": {},
   "source": [
    "#### Filter the movies data for movies with more than 10000 ratings"
   ]
  },
  {
   "cell_type": "code",
   "execution_count": 4,
   "metadata": {},
   "outputs": [
    {
     "name": "stdout",
     "output_type": "stream",
     "text": [
      "[ True False False ... False False False]\n"
     ]
    }
   ],
   "source": [
    "countByMovie = ratings.groupby('movieId').size().reset_index(name='countOfUsers')\n",
    "frequent_movies = list(set(countByMovie.query('countOfUsers >= 10000').index))\n",
    "movies_filter = ratings.movieId.isin(frequent_movies).values\n",
    "print(movies_filter)"
   ]
  },
  {
   "cell_type": "markdown",
   "metadata": {},
   "source": [
    "#### Filter the users data for users that have rated more than 120 movies"
   ]
  },
  {
   "cell_type": "code",
   "execution_count": 5,
   "metadata": {},
   "outputs": [
    {
     "name": "stdout",
     "output_type": "stream",
     "text": [
      "[False False False ... False False False]\n"
     ]
    }
   ],
   "source": [
    "countByUser = ratings.groupby('userId').size().reset_index(name='countOfMovies')\n",
    "active_users = list(set(countByUser.query('countOfMovies >= 120').index))\n",
    "users_filter = ratings.userId.isin(active_users).values\n",
    "print(users_filter)"
   ]
  },
  {
   "cell_type": "markdown",
   "metadata": {},
   "source": [
    "#### Filter the data and store it into a dataframe"
   ]
  },
  {
   "cell_type": "code",
   "execution_count": 6,
   "metadata": {},
   "outputs": [
    {
     "name": "stdout",
     "output_type": "stream",
     "text": [
      "          userId  movieId  rating\n",
      "178            2      110     4.0\n",
      "185            2      589     5.0\n",
      "186            2      891     2.0\n",
      "190            2     1196     5.0\n",
      "192            2     1214     5.0\n",
      "...          ...      ...     ...\n",
      "19999811  138492      163     3.5\n",
      "19999820  138492     1196     4.5\n",
      "19999825  138492     1234     4.0\n",
      "19999829  138492     1304     4.5\n",
      "19999845  138492     2571     5.0\n",
      "\n",
      "[665875 rows x 3 columns]\n"
     ]
    }
   ],
   "source": [
    "filtered = ratings[movies_filter & users_filter]\n",
    "print(filtered)"
   ]
  },
  {
   "cell_type": "markdown",
   "metadata": {},
   "source": [
    "#### Write the dataframe into a csv file which can be read into the notebook for building the recommender"
   ]
  },
  {
   "cell_type": "code",
   "execution_count": 7,
   "metadata": {},
   "outputs": [],
   "source": [
    "filtered.to_csv('Dataset/preprocessedMovieLens.csv',header=True,index=False)"
   ]
  },
  {
   "cell_type": "markdown",
   "metadata": {},
   "source": [
    "#### Convert categorical variable (genre) into dummy/indicator variables and update the dataframe"
   ]
  },
  {
   "cell_type": "code",
   "execution_count": 8,
   "metadata": {},
   "outputs": [
    {
     "name": "stdout",
     "output_type": "stream",
     "text": [
      "      movieId                                              title  Action  \\\n",
      "0           1                                   Toy Story (1995)       0   \n",
      "1           2                                     Jumanji (1995)       0   \n",
      "3           4                           Waiting to Exhale (1995)       0   \n",
      "4           5                 Father of the Bride Part II (1995)       0   \n",
      "5           6                                        Heat (1995)       1   \n",
      "...       ...                                                ...     ...   \n",
      "7458     7761              Soft Skin, The (La peau douce) (1964)       0   \n",
      "7466     7769  Legend of the Village Warriors (Bangrajan) (2000)       1   \n",
      "7588     7953    Rabid Dogs (Kidnapped) (Cani arrabbiati) (1974)       0   \n",
      "7596     7982  Tale of Two Sisters, A (Janghwa, Hongryeon) (2...       0   \n",
      "7690     8191                   Anne of the Thousand Days (1969)       0   \n",
      "\n",
      "      Adventure  Animation  Children  Comedy  Crime  Documentary  Drama  ...  \\\n",
      "0             1          1         1       1      0            0      0  ...   \n",
      "1             1          0         1       0      0            0      0  ...   \n",
      "3             0          0         0       1      0            0      1  ...   \n",
      "4             0          0         0       1      0            0      0  ...   \n",
      "5             0          0         0       0      1            0      0  ...   \n",
      "...         ...        ...       ...     ...    ...          ...    ...  ...   \n",
      "7458          0          0         0       0      0            0      1  ...   \n",
      "7466          0          0         0       0      0            0      1  ...   \n",
      "7588          0          0         0       0      0            0      1  ...   \n",
      "7596          0          0         0       0      0            0      1  ...   \n",
      "7690          0          0         0       0      0            0      1  ...   \n",
      "\n",
      "      Film-Noir  Horror  IMAX  Musical  Mystery  Romance  Sci-Fi  Thriller  \\\n",
      "0             0       0     0        0        0        0       0         0   \n",
      "1             0       0     0        0        0        0       0         0   \n",
      "3             0       0     0        0        0        1       0         0   \n",
      "4             0       0     0        0        0        0       0         0   \n",
      "5             0       0     0        0        0        0       0         1   \n",
      "...         ...     ...   ...      ...      ...      ...     ...       ...   \n",
      "7458          0       0     0        0        0        0       0         0   \n",
      "7466          0       0     0        0        0        0       0         0   \n",
      "7588          0       0     0        0        0        0       0         1   \n",
      "7596          0       1     0        0        1        0       0         1   \n",
      "7690          0       0     0        0        0        0       0         0   \n",
      "\n",
      "      War  Western  \n",
      "0       0        0  \n",
      "1       0        0  \n",
      "3       0        0  \n",
      "4       0        0  \n",
      "5       0        0  \n",
      "...   ...      ...  \n",
      "7458    0        0  \n",
      "7466    1        0  \n",
      "7588    0        0  \n",
      "7596    0        0  \n",
      "7690    0        0  \n",
      "\n",
      "[435 rows x 21 columns]\n"
     ]
    }
   ],
   "source": [
    "interestingMovies = filtered.movieId.unique()\n",
    "filteredMovies = movies.loc[movies['movieId'].isin(interestingMovies)]\n",
    "filteredMovies = pd.concat([filteredMovies, filteredMovies['genres'].str.get_dummies(sep='|')], axis=1)\n",
    "del filteredMovies['genres']\n",
    "print(filteredMovies)"
   ]
  },
  {
   "cell_type": "markdown",
   "metadata": {},
   "source": [
    "#### Write the dataframe into a csv file which can be read into the notebook for building the recommender"
   ]
  },
  {
   "cell_type": "code",
   "execution_count": 9,
   "metadata": {},
   "outputs": [],
   "source": [
    "filteredMovies.to_csv('Dataset/preprocessedMovies.csv',header=True,index=False)"
   ]
  }
 ],
 "metadata": {
  "kernelspec": {
   "display_name": "Python 3.8.1 32-bit",
   "language": "python",
   "name": "python38132bit810594cca71e43f5b0ebcd95ecfe7fc2"
  },
  "language_info": {
   "codemirror_mode": {
    "name": "ipython",
    "version": 3
   },
   "file_extension": ".py",
   "mimetype": "text/x-python",
   "name": "python",
   "nbconvert_exporter": "python",
   "pygments_lexer": "ipython3",
   "version": "3.8.1"
  }
 },
 "nbformat": 4,
 "nbformat_minor": 4
}
